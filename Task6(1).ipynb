{
 "cells": [
  {
   "cell_type": "code",
   "execution_count": 95,
   "id": "cf7202d5-0e8a-434d-9fc6-760f18b1ba05",
   "metadata": {},
   "outputs": [],
   "source": [
    "import numpy as np\n",
    "import pandas as pd\n"
   ]
  },
  {
   "cell_type": "code",
   "execution_count": 96,
   "id": "30989e23-d68f-477b-a4fd-e8f9e5693c9e",
   "metadata": {},
   "outputs": [],
   "source": [
    "df=pd.read_csv('dataset 1.csv')"
   ]
  },
  {
   "cell_type": "code",
   "execution_count": 97,
   "id": "af4a41c2-6721-446d-a25f-926afe0ff54d",
   "metadata": {},
   "outputs": [],
   "source": [
    "df.drop('Day',axis=1,inplace=True)"
   ]
  },
  {
   "cell_type": "code",
   "execution_count": 98,
   "id": "b610a9a4-ac12-4729-893a-9b5b7d49bbc5",
   "metadata": {},
   "outputs": [
    {
     "data": {
      "text/html": [
       "<div>\n",
       "<style scoped>\n",
       "    .dataframe tbody tr th:only-of-type {\n",
       "        vertical-align: middle;\n",
       "    }\n",
       "\n",
       "    .dataframe tbody tr th {\n",
       "        vertical-align: top;\n",
       "    }\n",
       "\n",
       "    .dataframe thead th {\n",
       "        text-align: right;\n",
       "    }\n",
       "</style>\n",
       "<table border=\"1\" class=\"dataframe\">\n",
       "  <thead>\n",
       "    <tr style=\"text-align: right;\">\n",
       "      <th></th>\n",
       "      <th>Outlook</th>\n",
       "      <th>Temperature</th>\n",
       "      <th>Humidity</th>\n",
       "      <th>Wind</th>\n",
       "      <th>Tennis</th>\n",
       "    </tr>\n",
       "  </thead>\n",
       "  <tbody>\n",
       "    <tr>\n",
       "      <th>0</th>\n",
       "      <td>Sunny</td>\n",
       "      <td>Hot</td>\n",
       "      <td>High</td>\n",
       "      <td>Weak</td>\n",
       "      <td>No</td>\n",
       "    </tr>\n",
       "    <tr>\n",
       "      <th>1</th>\n",
       "      <td>Sunny</td>\n",
       "      <td>Hot</td>\n",
       "      <td>High</td>\n",
       "      <td>Strong</td>\n",
       "      <td>No</td>\n",
       "    </tr>\n",
       "    <tr>\n",
       "      <th>2</th>\n",
       "      <td>Overcast</td>\n",
       "      <td>Hot</td>\n",
       "      <td>High</td>\n",
       "      <td>Weak</td>\n",
       "      <td>Yes</td>\n",
       "    </tr>\n",
       "    <tr>\n",
       "      <th>3</th>\n",
       "      <td>Rain</td>\n",
       "      <td>Medium</td>\n",
       "      <td>High</td>\n",
       "      <td>Weak</td>\n",
       "      <td>Yes</td>\n",
       "    </tr>\n",
       "    <tr>\n",
       "      <th>4</th>\n",
       "      <td>Rain</td>\n",
       "      <td>Cool</td>\n",
       "      <td>Normal</td>\n",
       "      <td>Weak</td>\n",
       "      <td>Yes</td>\n",
       "    </tr>\n",
       "  </tbody>\n",
       "</table>\n",
       "</div>"
      ],
      "text/plain": [
       "    Outlook Temperature Humidity    Wind Tennis\n",
       "0     Sunny         Hot     High    Weak     No\n",
       "1     Sunny         Hot     High  Strong     No\n",
       "2  Overcast         Hot     High    Weak    Yes\n",
       "3      Rain      Medium     High    Weak    Yes\n",
       "4      Rain        Cool   Normal    Weak    Yes"
      ]
     },
     "execution_count": 98,
     "metadata": {},
     "output_type": "execute_result"
    }
   ],
   "source": [
    "df.head()"
   ]
  },
  {
   "cell_type": "code",
   "execution_count": 99,
   "id": "a383c7e4-a00a-41a4-b486-e4b0336aee42",
   "metadata": {},
   "outputs": [],
   "source": [
    "def calculate_entropy_dataset(data):\n",
    "    target=data.iloc[:,-1].values\n",
    "    _, counts = np.unique(target, return_counts=True)\n",
    "    probabilities = counts / counts.sum()\n",
    "    entropy = sum(probabilities * -np.log2(probabilities))\n",
    "    return entropy\n",
    "    "
   ]
  },
  {
   "cell_type": "code",
   "execution_count": 100,
   "id": "bfe18223-3307-4cd9-9043-c1c07510b5a6",
   "metadata": {},
   "outputs": [
    {
     "data": {
      "text/plain": [
       "0.9402859586706311"
      ]
     },
     "execution_count": 100,
     "metadata": {},
     "output_type": "execute_result"
    }
   ],
   "source": [
    "calculate_entropy_dataset(df)"
   ]
  },
  {
   "cell_type": "code",
   "execution_count": 101,
   "id": "68c6a0b8-44fc-4761-ae5d-8be970959b21",
   "metadata": {},
   "outputs": [],
   "source": [
    "def calculate_entropy_column(data):\n",
    "    columns=data.iloc[:,:]\n",
    "    n_columns=columns.shape[1]\n",
    "    entropies=[]\n",
    "    prob=[]\n",
    "    for i in range(n_columns):\n",
    "        column=columns.iloc[:,i].values\n",
    "        #print(column)\n",
    "        _, counts = np.unique(column, return_counts=True)\n",
    "        probabilities = counts / counts.sum()\n",
    "        prob.append(probabilities)\n",
    "        entropy = sum(probabilities * -np.log2(probabilities))\n",
    "        entropies.append(entropy)   \n",
    "    return entropies,prob"
   ]
  },
  {
   "cell_type": "code",
   "execution_count": 102,
   "id": "a462e9fe-7fc0-44ed-98b2-3e05597011a8",
   "metadata": {},
   "outputs": [],
   "source": [
    "entropies,prob=calculate_entropy_column(df)"
   ]
  },
  {
   "cell_type": "code",
   "execution_count": 103,
   "id": "d50327ce-026b-4cf3-8683-a8a3d6b5f431",
   "metadata": {},
   "outputs": [
    {
     "data": {
      "text/plain": [
       "[1.5774062828523454,\n",
       " 1.5566567074628228,\n",
       " 1.0,\n",
       " 0.9852281360342515,\n",
       " 0.9402859586706311]"
      ]
     },
     "execution_count": 103,
     "metadata": {},
     "output_type": "execute_result"
    }
   ],
   "source": [
    "entropies\n",
    "#Entropies of all remaining column"
   ]
  },
  {
   "cell_type": "code",
   "execution_count": 104,
   "id": "2ab99b11-f0bf-4afc-8451-29764373ea40",
   "metadata": {},
   "outputs": [
    {
     "data": {
      "text/plain": [
       "[array([0.28571429, 0.35714286, 0.35714286]),\n",
       " array([0.28571429, 0.28571429, 0.42857143]),\n",
       " array([0.5, 0.5]),\n",
       " array([0.42857143, 0.57142857]),\n",
       " array([0.35714286, 0.64285714])]"
      ]
     },
     "execution_count": 104,
     "metadata": {},
     "output_type": "execute_result"
    }
   ],
   "source": [
    "prob"
   ]
  },
  {
   "cell_type": "code",
   "execution_count": 105,
   "id": "f27bc1fc-477c-4b0e-9588-e363c8da1c5b",
   "metadata": {},
   "outputs": [],
   "source": [
    "whole_dataset= calculate_entropy_dataset(df)"
   ]
  },
  {
   "cell_type": "code",
   "execution_count": 106,
   "id": "87d15370-b6f3-4c4f-9a69-8d711378b9e9",
   "metadata": {},
   "outputs": [],
   "source": [
    "def calculate_gain(all_entropies, total_entropy):\n",
    "    gain=[total_entropy-g for g in all_entropies]\n",
    "    del gain[-1]\n",
    "    return gain"
   ]
  },
  {
   "cell_type": "code",
   "execution_count": 107,
   "id": "e8b0165b-1f71-41ce-8748-83e18200d594",
   "metadata": {},
   "outputs": [],
   "source": [
    "gains=calculate_gain(entropies,whole_dataset)"
   ]
  },
  {
   "cell_type": "code",
   "execution_count": 108,
   "id": "4d8f2db0-37df-4fed-873d-43f44c2bc3e4",
   "metadata": {},
   "outputs": [
    {
     "data": {
      "text/plain": [
       "[-0.6371203241817143,\n",
       " -0.6163707487921917,\n",
       " -0.05971404132936886,\n",
       " -0.044942177363620384]"
      ]
     },
     "execution_count": 108,
     "metadata": {},
     "output_type": "execute_result"
    }
   ],
   "source": [
    "gains"
   ]
  },
  {
   "cell_type": "code",
   "execution_count": 119,
   "id": "65ccfe7c-f108-4fe2-8ab1-627c3f04a9fa",
   "metadata": {},
   "outputs": [],
   "source": [
    "def calculate_entropy_dataset(data):\n",
    "    target=data.iloc[:,-1].values\n",
    "    _, counts = np.unique(target, return_counts=True)\n",
    "    probabilities = counts / counts.sum()\n",
    "    entropy = sum(probabilities * -np.log2(probabilities))\n",
    "    return entropy\n",
    "def calculate_entropy_column(data):\n",
    "    columns=data.iloc[:,:]\n",
    "    n_columns=columns.shape[1]\n",
    "    entropies=[]\n",
    "    prob=[]\n",
    "    for i in range(n_columns):\n",
    "        column=columns.iloc[:,i].values\n",
    "        #print(column)\n",
    "        _, counts = np.unique(column, return_counts=True)\n",
    "        probabilities = counts / counts.sum()\n",
    "        prob.append(probabilities)\n",
    "        entropy = sum(probabilities * -np.log2(probabilities))\n",
    "        entropies.append(entropy)   \n",
    "    return entropies,prob\n",
    "def calculate_gain(all_entropies, total_entropy):\n",
    "    gain=[total_entropy-g for g in all_entropies[:-1]]\n",
    "    return gain\n",
    "def id3_algorithm(data):\n",
    "\n",
    "    whole_dataset_entropy = calculate_entropy_dataset(data)\n",
    "    entropies, prob = calculate_entropy_column(data)\n",
    "    gains = calculate_gain(entropies, whole_dataset_entropy)\n",
    "    best_feature_index = np.argmax(gains)\n",
    "    best_feature_entropy = entropies[best_feature_index]\n",
    "    best_feature_values = data.iloc[:, best_feature_index].unique()\n",
    "\n",
    "    # Construct the decision tree node\n",
    "    node = {\n",
    "        'feature_index': best_feature_index,\n",
    "        'feature_entropy': best_feature_entropy,\n",
    "        'feature_values': best_feature_values,\n",
    "        'subtrees': {}\n",
    "    }\n",
    "\n",
    "    for value in best_feature_values:\n",
    "        subset = data[data.iloc[:, best_feature_index] == value]\n",
    "        if subset.empty:\n",
    "            node['subtrees'][value] = \"Leaf Node: No Data\"\n",
    "        elif calculate_entropy_dataset(subset) == 0:\n",
    "            node['subtrees'][value] = subset.iloc[0, -1]\n",
    "        else:\n",
    "            subset = subset.drop(columns=data.columns[best_feature_index])\n",
    "            node['subtrees'][value] = id3_algorithm(subset)\n",
    "\n",
    "    return node\n"
   ]
  },
  {
   "cell_type": "code",
   "execution_count": 122,
   "id": "f72a128d-f8b6-493d-9411-a58097767c25",
   "metadata": {},
   "outputs": [],
   "source": [
    "def predict(tree, sample):\n",
    "    current_node = tre\n",
    "\n",
    "    while True:\n",
    "        if isinstance(current_node, dict):\n",
    "            feature_index = current_node['feature_index']\n",
    "            feature_value = sample.iloc[feature_index]\n",
    "            \n",
    "            if feature_value in current_node['subtrees']:\n",
    "                current_node = current_node['subtrees'][feature_value]\n",
    "            else:\n",
    "                # If the feature value is not present in the subtree, return a default value or handle as needed\n",
    "                return \"Unknown\"\n",
    "        else:\n",
    "            # Leaf node reached, return the predicted target value\n",
    "            return current_node\n"
   ]
  },
  {
   "cell_type": "code",
   "execution_count": 128,
   "id": "5838fd16-f1ff-48cd-9919-00f3ed3f3ade",
   "metadata": {},
   "outputs": [],
   "source": [
    "data=np.array(df)"
   ]
  },
  {
   "cell_type": "code",
   "execution_count": 136,
   "id": "3168f05e-b8d7-470e-b6f5-42d3dd007855",
   "metadata": {},
   "outputs": [
    {
     "name": "stdout",
     "output_type": "stream",
     "text": [
      "Predicted value: Yes\n"
     ]
    }
   ],
   "source": [
    "test=df.iloc[2,:]\n",
    "prediction = predict(tree, test)\n",
    "print(\"Predicted value:\", prediction)\n"
   ]
  },
  {
   "cell_type": "code",
   "execution_count": 131,
   "id": "542a127f-c0f3-42e9-b5ff-025991e2ea09",
   "metadata": {},
   "outputs": [
    {
     "data": {
      "text/plain": [
       "0        Hot\n",
       "1        Hot\n",
       "2        Hot\n",
       "3     Medium\n",
       "4       Cool\n",
       "5       Cool\n",
       "6       Cool\n",
       "7     Medium\n",
       "8       Cool\n",
       "9     Medium\n",
       "10    Medium\n",
       "11    Medium\n",
       "12       Hot\n",
       "13    Medium\n",
       "Name: Temperature, dtype: object"
      ]
     },
     "execution_count": 131,
     "metadata": {},
     "output_type": "execute_result"
    }
   ],
   "source": [
    "test"
   ]
  },
  {
   "cell_type": "code",
   "execution_count": 120,
   "id": "ee45a9cf-e77f-4622-b09c-5aecd336f961",
   "metadata": {},
   "outputs": [
    {
     "name": "stdout",
     "output_type": "stream",
     "text": [
      "{'feature_index': 3, 'feature_entropy': 0.9852281360342515, 'feature_values': array(['Weak', 'Strong'], dtype=object), 'subtrees': {'Weak': {'feature_index': 2, 'feature_entropy': 1.0, 'feature_values': array(['High', 'Normal'], dtype=object), 'subtrees': {'High': {'feature_index': 1, 'feature_entropy': 1.0, 'feature_values': array(['Hot', 'Medium'], dtype=object), 'subtrees': {'Hot': {'feature_index': 0, 'feature_entropy': 1.0, 'feature_values': array(['Sunny', 'Overcast'], dtype=object), 'subtrees': {'Sunny': 'No', 'Overcast': 'Yes'}}, 'Medium': {'feature_index': 0, 'feature_entropy': 1.0, 'feature_values': array(['Rain', 'Sunny'], dtype=object), 'subtrees': {'Rain': 'Yes', 'Sunny': 'No'}}}}, 'Normal': 'Yes'}}, 'Strong': {'feature_index': 2, 'feature_entropy': 1.0, 'feature_values': array(['High', 'Normal'], dtype=object), 'subtrees': {'High': {'feature_index': 1, 'feature_entropy': 0.9182958340544896, 'feature_values': array(['Hot', 'Medium'], dtype=object), 'subtrees': {'Hot': 'No', 'Medium': {'feature_index': 0, 'feature_entropy': 1.0, 'feature_values': array(['Overcast', 'Rain'], dtype=object), 'subtrees': {'Overcast': 'Yes', 'Rain': 'No'}}}}, 'Normal': {'feature_index': 1, 'feature_entropy': 0.9182958340544896, 'feature_values': array(['Cool', 'Medium'], dtype=object), 'subtrees': {'Cool': {'feature_index': 0, 'feature_entropy': 1.0, 'feature_values': array(['Rain', 'Overcast'], dtype=object), 'subtrees': {'Rain': 'No', 'Overcast': 'Yes'}}, 'Medium': 'Yes'}}}}}}\n"
     ]
    }
   ],
   "source": [
    "tree = id3_algorithm(df)\n",
    "print(tree)\n"
   ]
  },
  {
   "cell_type": "code",
   "execution_count": 121,
   "id": "8c3f1869-4e86-4977-aa04-8be3514a50ed",
   "metadata": {},
   "outputs": [
    {
     "data": {
      "image/png": "[encoded data removed]",
      "text/plain": [
       "<Figure size 640x480 with 1 Axes>"
      ]
     },
     "metadata": {},
     "output_type": "display_data"
    }
   ],
   "source": [
    "import matplotlib.pyplot as plt\n",
    "import networkx as nx\n",
    "\n",
    "def visualize_tree(tree, parent_name, graph, pos=None, level=0, width=2., vert_gap=0.4, xcenter=0.5):\n",
    "    if pos is None:\n",
    "        pos = {parent_name: (xcenter, 1 - level * vert_gap)}\n",
    "    else:\n",
    "        pos[parent_name] = (xcenter, 1 - level * vert_gap)\n",
    "    neighbors = list(graph.neighbors(parent_name))\n",
    "    if len(neighbors) != 0:\n",
    "        dx = width / 2\n",
    "        nextx = xcenter - width/2 - dx/2\n",
    "        for neighbor in neighbors:\n",
    "            nextx += dx\n",
    "            pos = visualize_tree(tree, neighbor, graph=graph, pos=pos,\n",
    "                                level=level+1, width=dx, xcenter=nextx)\n",
    "    return pos\n",
    "\n",
    "def add_edges(node, parent_name, graph, pos=None, level=0, width=2., vert_gap=0.4, xcenter=0.5):\n",
    "    graph.add_node(parent_name)\n",
    "    if pos is None:\n",
    "        pos = {parent_name: (xcenter, 1 - level * vert_gap)}\n",
    "    else:\n",
    "        pos[parent_name] = (xcenter, 1 - level * vert_gap)\n",
    "\n",
    "    if 'subtrees' in node and isinstance(node['subtrees'], dict):\n",
    "        neighbors = node['subtrees'].keys()\n",
    "        if len(neighbors) != 0:\n",
    "            dx = width / 2\n",
    "            nextx = xcenter - width/2 - dx/2\n",
    "            for neighbor in neighbors:\n",
    "                nextx += dx\n",
    "                graph.add_edge(parent_name, neighbor)\n",
    "                pos = add_edges(node['subtrees'][neighbor], neighbor, graph=graph, pos=pos,\n",
    "                                level=level+1, width=dx, xcenter=nextx)\n",
    "    return pos\n",
    "\n",
    "def draw_tree(tree):\n",
    "    graph = nx.DiGraph()\n",
    "    \n",
    "    pos = add_edges(tree, \"Root\", graph=graph)\n",
    "    pos = visualize_tree(tree, \"Root\", graph=graph, pos=pos)\n",
    "\n",
    "    labels = nx.get_edge_attributes(graph, 'label')\n",
    "    edge_labels = {(parent, child): f'{parent}->{child}\\n{labels.get((parent, child), \"\")}' for parent, child in graph.edges()}\n",
    "\n",
    "    nx.draw(graph, pos=pos, with_labels=True, node_size=700, node_color='skyblue', font_size=8, font_color='black')\n",
    "    nx.draw_networkx_edge_labels(graph, pos, edge_labels=edge_labels, font_color='red')\n",
    "    plt.show()\n",
    "\n",
    "# Assuming 'tree' is the decision tree generated using id3_algorithm\n",
    "draw_tree(tree)\n",
    "\n"
   ]
  },
  {
   "cell_type": "code",
   "execution_count": null,
   "id": "7a51552a-3db3-40b0-acd0-269f13f8886c",
   "metadata": {},
   "outputs": [],
   "source": []
  }
 ],
 "metadata": {
  "kernelspec": {
   "display_name": "Python 3 (ipykernel)",
   "language": "python",
   "name": "python3"
  },
  "language_info": {
   "codemirror_mode": {
    "name": "ipython",
    "version": 3
   },
   "file_extension": ".py",
   "mimetype": "text/x-python",
   "name": "python",
   "nbconvert_exporter": "python",
   "pygments_lexer": "ipython3",
   "version": "3.11.7"
  }
 },
 "nbformat": 4,
 "nbformat_minor": 5
}
