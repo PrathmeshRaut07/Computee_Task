{
 "cells": [
  {
   "cell_type": "code",
   "execution_count": 1,
   "id": "cdefaec8",
   "metadata": {},
   "outputs": [
    {
     "name": "stdout",
     "output_type": "stream",
     "text": [
      "1st and last is same\n"
     ]
    }
   ],
   "source": [
    "number_x=[10,20,30,40,10]\n",
    "if number_x[0]==number_x[len(number_x)-1]:\n",
    "    print('1st and last is same')\n",
    "else:\n",
    "    print('1st and last are diff')   "
   ]
  },
  {
   "cell_type": "code",
   "execution_count": 2,
   "id": "40a78584",
   "metadata": {},
   "outputs": [
    {
     "name": "stdout",
     "output_type": "stream",
     "text": [
      "A\n",
      "23\n",
      "DEF\n",
      "78910\n",
      "KLMNO\n"
     ]
    }
   ],
   "source": [
    "count=1\n",
    "for i in range(1,6):\n",
    "    for j in range(0,i):\n",
    "        if i%2!=0:\n",
    "            print(chr(count+64),end='')\n",
    "        else:\n",
    "            print(count,end='')\n",
    "        count=count+1\n",
    "    print('')     "
   ]
  },
  {
   "cell_type": "code",
   "execution_count": 3,
   "id": "94f77949",
   "metadata": {},
   "outputs": [
    {
     "name": "stdout",
     "output_type": "stream",
     "text": [
      "     *\n",
      "    * *\n",
      "   *   *\n",
      "  *     *\n",
      " *       *\n",
      "* * * * * * \n"
     ]
    }
   ],
   "source": [
    "for i in range(0,6):\n",
    "    if i>=0 and i<5:\n",
    "        for j in range(0,5-i):\n",
    "            print(' ',end='')\n",
    "        print('*',end='')\n",
    "    if i>=1 and i<5:\n",
    "        for k in range(0,2*i-1):\n",
    "            print(' ',end='')\n",
    "        print('*',end='')\n",
    "    if i==5:\n",
    "        for l in range(0,6):\n",
    "            print('*',end=' ')\n",
    "    print('')                   "
   ]
  },
  {
   "cell_type": "code",
   "execution_count": 5,
   "id": "c8bb80e3",
   "metadata": {},
   "outputs": [
    {
     "name": "stdout",
     "output_type": "stream",
     "text": [
      "5 3\n",
      "89 90 78 93 80\n",
      "90 91 85 88 86  \n",
      "91 92 83 89 90.5\n",
      "90.0\n",
      "91.0\n",
      "82.0\n",
      "90.0\n",
      "85.5\n"
     ]
    }
   ],
   "source": [
    "# Enter your code here. Read input from STDIN. Print output to STDOUT\n",
    "x,y=map(int,input().split())\n",
    "List_1=[]\n",
    "for i in range(y):\n",
    "    List=list(map(float,input().split()))\n",
    "    List_1.append(List)\n",
    "z=zip(*List_1)\n",
    "for i in z:\n",
    "    #print(i)\n",
    "    print(sum(i)/y)"
   ]
  },
  {
   "cell_type": "code",
   "execution_count": 8,
   "id": "9ef0844e",
   "metadata": {},
   "outputs": [
    {
     "name": "stdout",
     "output_type": "stream",
     "text": [
      "3\n",
      "Krishna 67 68 69\n",
      "Arjun 70 98 63\n",
      "Malika 52 56 60\n",
      "Malika\n",
      "56.00\n"
     ]
    }
   ],
   "source": [
    "if __name__ == '__main__':\n",
    "    n = int(input())\n",
    "    student_marks = {}\n",
    "    for i in range(n):\n",
    "        name, *line = input().split()\n",
    "        scores = list(map(float, line))\n",
    "        student_marks[name] = scores\n",
    "    query_name = input()\n",
    "    #print(student_marks)\n",
    "    for i,j in student_marks.items():\n",
    "        if i==query_name:\n",
    "            a=sum(j)/3\n",
    "            a='{:.2f}'.format(a)\n",
    "            print(a)"
   ]
  },
  {
   "cell_type": "code",
   "execution_count": 9,
   "id": "aeb39d2b",
   "metadata": {},
   "outputs": [
    {
     "name": "stdout",
     "output_type": "stream",
     "text": [
      "abracadabra\n",
      "5 k \n",
      "abrackdabra\n"
     ]
    }
   ],
   "source": [
    "def mutate_string(string, position, character):\n",
    "    List=list(string)\n",
    "    List[position]=character\n",
    "    return ''.join(List)\n",
    "\n",
    "if __name__ == '__main__':\n",
    "    s = input()\n",
    "    i, c = input().split()\n",
    "    s_new = mutate_string(s, int(i), c)\n",
    "    print(s_new)"
   ]
  },
  {
   "cell_type": "code",
   "execution_count": 10,
   "id": "38467c74",
   "metadata": {},
   "outputs": [
    {
     "name": "stdout",
     "output_type": "stream",
     "text": [
      "aabbbccde\n",
      "b 3\n",
      "a 2\n",
      "c 2\n"
     ]
    }
   ],
   "source": [
    "#!/bin/python3\n",
    "\n",
    "import math\n",
    "import os\n",
    "import random\n",
    "import re\n",
    "import sys\n",
    "from collections import Counter\n",
    "if __name__ == '__main__':\n",
    "    s = input()\n",
    "    s=list(s)\n",
    "    #print(s)\n",
    "    s=sorted(s)\n",
    "    Dict=Counter(s).most_common(3)\n",
    "    Dict=dict(Dict)\n",
    "    #print(Dict)\n",
    "    #List=[]\n",
    "    '''\n",
    "    for key,items in Dict.items():\n",
    "        Temp=[]\n",
    "        Temp.append(items)\n",
    "        Temp.append(key)\n",
    "        List.append(Temp)\n",
    "    #print(List)\n",
    "    List.sort()\n",
    "    print(List)    \n",
    "       ''' \n",
    "    #print(Dict)   \n",
    "    for key,items in Dict.items():\n",
    "        print(key,items)"
   ]
  }
 ],
 "metadata": {
  "kernelspec": {
   "display_name": "Python 3 (ipykernel)",
   "language": "python",
   "name": "python3"
  },
  "language_info": {
   "codemirror_mode": {
    "name": "ipython",
    "version": 3
   },
   "file_extension": ".py",
   "mimetype": "text/x-python",
   "name": "python",
   "nbconvert_exporter": "python",
   "pygments_lexer": "ipython3",
   "version": "3.11.3"
  }
 },
 "nbformat": 4,
 "nbformat_minor": 5
}
